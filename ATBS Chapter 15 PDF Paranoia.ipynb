{
 "cells": [
  {
   "cell_type": "markdown",
   "metadata": {},
   "source": [
    "# [Instructions for this project](https://automatetheboringstuff.com/2e/chapter15/)"
   ]
  },
  {
   "cell_type": "markdown",
   "metadata": {},
   "source": [
    "This one was tricky!\n",
    "Decided to use the debugger simply for practice, and it ended up saving me so much heartache. That, and some of Python's error messages were actually helpful! I also created a bugSwitch function to cut out some repetitive code. It's a function you could use to easily add a debugger option in the function call of any function! I expanded on Al's initial instructions a bit to add more options to this function, as well as taking the password as input and not through the command line. Here, you have the option to keep the original file(s), use one password to encrypt all of them, or one for each, as well as the option to enable DEBUG if you want. These functions aren't perfect. For example, if you try to run the encrypt on already encrpyted PDFs, it will try and crash. Also, if you run these back to back on the same files, decrypt won't be able to find them and you'd have to restart the kernel in between. However I think those are such edge cases I decided this was good enough as is. The awesome part is: once I made the first fuction, I largely repurposed and reorganized the code from it and had 90% of the second function done."
   ]
  },
  {
   "cell_type": "code",
   "execution_count": 1,
   "metadata": {},
   "outputs": [],
   "source": [
    "# Practice Project: PDF Paranoia\n",
    "\n",
    "#! python3\n",
    "# pyPdfCrypt.py - encrypts/decrypts a folder and subfolder's PDFs."
   ]
  },
  {
   "cell_type": "code",
   "execution_count": 1,
   "metadata": {},
   "outputs": [],
   "source": [
    "def bugSwitch(DEBUG):\n",
    "    \n",
    "    import logging # Debugger\n",
    "    \n",
    "    if DEBUG is True:\n",
    "        logging.basicConfig(level=logging.DEBUG, format='%(asctime)s - %(levelname)s - %(message)s')\n",
    "\n",
    "    else:\n",
    "        logging.disable(logging.CRITICAL)  "
   ]
  },
  {
   "cell_type": "code",
   "execution_count": 3,
   "metadata": {},
   "outputs": [],
   "source": [
    "# Practice Project: PDF Paranoia\n",
    "\n",
    "# Encrypter\n",
    "\n",
    "# Define function\n",
    "def pdfEncrypt(Delete = False, DEBUG = False, SPW = False):\n",
    "\n",
    "    # Import libraries\n",
    "    import os # Manage files\n",
    "    import pyinputplus as pyip # Manage input\n",
    "    import PyPDF2 # Read/Write/Encrypt PDFs\n",
    "    import logging # Debugger\n",
    "    import send2trash # library for sending original PDF files to the computer's recycling bin\n",
    "    \n",
    "    bugSwitch(DEBUG)\n",
    "    \n",
    "    # Start debugger\n",
    "    logging.debug('Start of program. Debugger enabled.')\n",
    "\n",
    "    # Ask for folder name or path as string, convert to absolute path\n",
    "    while True:\n",
    "        inputstr = pyip.inputStr(prompt = 'Please enter the folder name to encrypt.')\n",
    "        path = os.path.abspath(inputstr)\n",
    "        if os.path.exists(path):\n",
    "            break\n",
    "        print('That is not a valid folder name. Remember the folder must be in the current working directory')\n",
    "\n",
    "    logging.debug(f'Folder found. path variable = {path}')\n",
    "    \n",
    "    # if variable for Single Password is set to True:\n",
    "    if SPW is True:\n",
    "        singlePassVar = pyip.inputStr(prompt = f'Please enter a password to encrypt files with.')\n",
    "        logging.debug(f'singlePassVar = {singlePassVar}')    \n",
    "\n",
    "    # Use os.walk to loop, for each folder:\n",
    "    for foldername, subfolders, filenames in os.walk(path):\n",
    "        logging.debug(f'The current folder is {foldername}')\n",
    "        \n",
    "        # for each subfolder:\n",
    "        for subfolder in subfolders:\n",
    "            logging.debug(f'SUBFOLDER OF {foldername}: {subfolder}')\n",
    "        \n",
    "        # for each file:\n",
    "        for filename in filenames:\n",
    "            logging.debug(f'FILE INSIDE {foldername}: {filename}')\n",
    "        \n",
    "            # If the file is a PDF ( filename ends with .pdf):\n",
    "            if filename.endswith('.pdf'):\n",
    "                logging.debug(f'{filename} is a PDF')\n",
    "\n",
    "                # Use single password or pyinput to create passwordvariable\n",
    "                \n",
    "                if SPW is True:\n",
    "                    passwordvariable = singlePassVar\n",
    "                \n",
    "                else:\n",
    "                    passwordvariable = pyip.inputStr(prompt = f'Please enter a password to encrypt {filename} with.')\n",
    "                \n",
    "                logging.debug(f'passwordvariable = {passwordvariable}')  \n",
    "                \n",
    "                # Create the current file path variable\n",
    "                currentFilePath = f'{foldername}\\{filename}'\n",
    "                \n",
    "                logging.debug(f'currentFilePath variable = {currentFilePath}')\n",
    "                \n",
    "                # Create the new filename variable\n",
    "                encryptedPdfFilename = filename[:-4] + '_encrypted.pdf'\n",
    "                logging.debug(f'encryptedPdfFilename variable = {encryptedPdfFilename}')\n",
    "                \n",
    "                # Create encrypyed file path variable\n",
    "                encryptedPdfFilePath = f'{foldername}\\{encryptedPdfFilename}'\n",
    "                logging.debug(f'encryptedPdfFilePath variable = {encryptedPdfFilePath}')\n",
    "\n",
    "                # Encrypting PDFs\n",
    "                pdf1File = open(currentFilePath,'rb')\n",
    "                pdf1Reader = PyPDF2.PdfFileReader(pdf1File)\n",
    "                pdf2Writer = PyPDF2.PdfFileWriter()\n",
    "\n",
    "                for pageNum in range(pdf1Reader.numPages):\n",
    "                    pdf2Writer.addPage(pdf1Reader.getPage(pageNum))\n",
    "                \n",
    "                pdf2Writer.encrypt(passwordvariable) \n",
    "                encryptedPdf = open(encryptedPdfFilePath, 'wb')\n",
    "                pdf2Writer.write(encryptedPdf)\n",
    "                pdf1File.close()\n",
    "                encryptedPdf.close()\n",
    "\n",
    "                #  Make sure file can be unencrypted using the password\n",
    "                \n",
    "                # Create a reader object\n",
    "                encryptedPdfReader = PyPDF2.PdfFileReader(open(encryptedPdfFilePath, 'rb'))\n",
    "\n",
    "                # If this file encryped:\n",
    "                if encryptedPdfReader.isEncrypted is True:\n",
    "                    logging.debug(f'{encryptedPdfFilename} encrypted is True')\n",
    "                    \n",
    "                    # If it can be decrypted succesfully:\n",
    "                    if encryptedPdfReader.decrypt(passwordvariable) is 1:\n",
    "                        logging.debug(f'{encryptedPdfFilename} passed decrypt test.')\n",
    "                        \n",
    "                        # If we set the delete option to True: \n",
    "                        if Delete is True: \n",
    "                            \n",
    "                            # Delete original file\n",
    "                            send2trash.send2trash(currentFilePath)\n",
    "                            print(f'{filename} moved to recycling bin.')\n",
    "                    else:\n",
    "                        print(f'{encryptedPdfFilename} could not be succesfully decrypted.')\n",
    "                \n",
    "                # PDF was NOT decrypted succesfully\n",
    "                else: \n",
    "                    print(f'{filename} could not be succesfully encrypted.')\n",
    "        \n",
    "            else:\n",
    "                logging.debug(f'{filename} is NOT a PDF')\n",
    "                pass\n",
    "    \n",
    "    logging.debug('End of program')\n",
    "    print('Encrypting complete.')            "
   ]
  },
  {
   "cell_type": "code",
   "execution_count": 4,
   "metadata": {},
   "outputs": [
    {
     "name": "stderr",
     "output_type": "stream",
     "text": [
      "2021-09-19 10:10:49,624 - DEBUG - Start of program. Debugger enabled.\n"
     ]
    },
    {
     "name": "stdout",
     "output_type": "stream",
     "text": [
      "Please enter the folder name to encrypt.PDFs\n"
     ]
    },
    {
     "name": "stderr",
     "output_type": "stream",
     "text": [
      "2021-09-19 10:10:51,662 - DEBUG - Folder found. path variable = C:\\Users\\Administrator.Sergio-PC\\PDFs\n"
     ]
    },
    {
     "name": "stdout",
     "output_type": "stream",
     "text": [
      "Please enter a password to encrypt files with.password\n"
     ]
    },
    {
     "name": "stderr",
     "output_type": "stream",
     "text": [
      "2021-09-19 10:10:55,877 - DEBUG - singlePassVar = password\n",
      "2021-09-19 10:10:55,878 - DEBUG - The current folder is C:\\Users\\Administrator.Sergio-PC\\PDFs\n",
      "2021-09-19 10:10:55,881 - DEBUG - SUBFOLDER OF C:\\Users\\Administrator.Sergio-PC\\PDFs: Misc Sub\n",
      "2021-09-19 10:10:55,885 - DEBUG - SUBFOLDER OF C:\\Users\\Administrator.Sergio-PC\\PDFs: Misc Sub dos\n",
      "2021-09-19 10:10:55,887 - DEBUG - FILE INSIDE C:\\Users\\Administrator.Sergio-PC\\PDFs: meetingminutes.pdf\n",
      "2021-09-19 10:10:55,889 - DEBUG - meetingminutes.pdf is a PDF\n",
      "2021-09-19 10:10:55,890 - DEBUG - passwordvariable = password\n",
      "2021-09-19 10:10:55,891 - DEBUG - currentFilePath variable = C:\\Users\\Administrator.Sergio-PC\\PDFs\\meetingminutes.pdf\n",
      "2021-09-19 10:10:55,892 - DEBUG - encryptedPdfFilename variable = meetingminutes_encrypted.pdf\n",
      "2021-09-19 10:10:55,893 - DEBUG - encryptedPdfFilePath variable = C:\\Users\\Administrator.Sergio-PC\\PDFs\\meetingminutes_encrypted.pdf\n",
      "2021-09-19 10:10:57,071 - DEBUG - meetingminutes_encrypted.pdf encrypted is True\n",
      "2021-09-19 10:10:57,083 - DEBUG - meetingminutes_encrypted.pdf passed decrypt test.\n",
      "2021-09-19 10:10:57,146 - DEBUG - FILE INSIDE C:\\Users\\Administrator.Sergio-PC\\PDFs: meetingminutes2.pdf\n",
      "2021-09-19 10:10:57,148 - DEBUG - meetingminutes2.pdf is a PDF\n",
      "2021-09-19 10:10:57,149 - DEBUG - passwordvariable = password\n",
      "2021-09-19 10:10:57,151 - DEBUG - currentFilePath variable = C:\\Users\\Administrator.Sergio-PC\\PDFs\\meetingminutes2.pdf\n",
      "2021-09-19 10:10:57,152 - DEBUG - encryptedPdfFilename variable = meetingminutes2_encrypted.pdf\n",
      "2021-09-19 10:10:57,155 - DEBUG - encryptedPdfFilePath variable = C:\\Users\\Administrator.Sergio-PC\\PDFs\\meetingminutes2_encrypted.pdf\n"
     ]
    },
    {
     "name": "stdout",
     "output_type": "stream",
     "text": [
      "meetingminutes.pdf moved to recycling bin.\n"
     ]
    },
    {
     "name": "stderr",
     "output_type": "stream",
     "text": [
      "2021-09-19 10:10:58,608 - DEBUG - meetingminutes2_encrypted.pdf encrypted is True\n",
      "2021-09-19 10:10:58,622 - DEBUG - meetingminutes2_encrypted.pdf passed decrypt test.\n",
      "2021-09-19 10:10:58,657 - DEBUG - FILE INSIDE C:\\Users\\Administrator.Sergio-PC\\PDFs: restyled.docx\n",
      "2021-09-19 10:10:58,660 - DEBUG - restyled.docx is NOT a PDF\n",
      "2021-09-19 10:10:58,663 - DEBUG - FILE INSIDE C:\\Users\\Administrator.Sergio-PC\\PDFs: zophie.png\n",
      "2021-09-19 10:10:58,667 - DEBUG - zophie.png is NOT a PDF\n",
      "2021-09-19 10:10:58,669 - DEBUG - The current folder is C:\\Users\\Administrator.Sergio-PC\\PDFs\\Misc Sub\n",
      "2021-09-19 10:10:58,672 - DEBUG - SUBFOLDER OF C:\\Users\\Administrator.Sergio-PC\\PDFs\\Misc Sub: Misc subsub\n",
      "2021-09-19 10:10:58,674 - DEBUG - FILE INSIDE C:\\Users\\Administrator.Sergio-PC\\PDFs\\Misc Sub: catlogo.png\n",
      "2021-09-19 10:10:58,676 - DEBUG - catlogo.png is NOT a PDF\n",
      "2021-09-19 10:10:58,678 - DEBUG - FILE INSIDE C:\\Users\\Administrator.Sergio-PC\\PDFs\\Misc Sub: dictionary.txt\n",
      "2021-09-19 10:10:58,679 - DEBUG - dictionary.txt is NOT a PDF\n",
      "2021-09-19 10:10:58,680 - DEBUG - FILE INSIDE C:\\Users\\Administrator.Sergio-PC\\PDFs\\Misc Sub: guests.txt\n",
      "2021-09-19 10:10:58,681 - DEBUG - guests.txt is NOT a PDF\n",
      "2021-09-19 10:10:58,683 - DEBUG - The current folder is C:\\Users\\Administrator.Sergio-PC\\PDFs\\Misc Sub\\Misc subsub\n",
      "2021-09-19 10:10:58,684 - DEBUG - FILE INSIDE C:\\Users\\Administrator.Sergio-PC\\PDFs\\Misc Sub\\Misc subsub: censuspopdata.xlsx\n",
      "2021-09-19 10:10:58,686 - DEBUG - censuspopdata.xlsx is NOT a PDF\n",
      "2021-09-19 10:10:58,688 - DEBUG - FILE INSIDE C:\\Users\\Administrator.Sergio-PC\\PDFs\\Misc Sub\\Misc subsub: combinedminutes.pdf\n",
      "2021-09-19 10:10:58,692 - DEBUG - combinedminutes.pdf is a PDF\n",
      "2021-09-19 10:10:58,693 - DEBUG - passwordvariable = password\n",
      "2021-09-19 10:10:58,695 - DEBUG - currentFilePath variable = C:\\Users\\Administrator.Sergio-PC\\PDFs\\Misc Sub\\Misc subsub\\combinedminutes.pdf\n",
      "2021-09-19 10:10:58,697 - DEBUG - encryptedPdfFilename variable = combinedminutes_encrypted.pdf\n",
      "2021-09-19 10:10:58,699 - DEBUG - encryptedPdfFilePath variable = C:\\Users\\Administrator.Sergio-PC\\PDFs\\Misc Sub\\Misc subsub\\combinedminutes_encrypted.pdf\n"
     ]
    },
    {
     "name": "stdout",
     "output_type": "stream",
     "text": [
      "meetingminutes2.pdf moved to recycling bin.\n"
     ]
    },
    {
     "name": "stderr",
     "output_type": "stream",
     "text": [
      "2021-09-19 10:11:01,328 - DEBUG - combinedminutes_encrypted.pdf encrypted is True\n",
      "2021-09-19 10:11:01,340 - DEBUG - combinedminutes_encrypted.pdf passed decrypt test.\n",
      "2021-09-19 10:11:01,397 - DEBUG - FILE INSIDE C:\\Users\\Administrator.Sergio-PC\\PDFs\\Misc Sub\\Misc subsub: dimensions.xlsx\n",
      "2021-09-19 10:11:01,399 - DEBUG - dimensions.xlsx is NOT a PDF\n",
      "2021-09-19 10:11:01,401 - DEBUG - FILE INSIDE C:\\Users\\Administrator.Sergio-PC\\PDFs\\Misc Sub\\Misc subsub: duesRecords.xlsx\n",
      "2021-09-19 10:11:01,403 - DEBUG - duesRecords.xlsx is NOT a PDF\n",
      "2021-09-19 10:11:01,405 - DEBUG - FILE INSIDE C:\\Users\\Administrator.Sergio-PC\\PDFs\\Misc Sub\\Misc subsub: example.xlsx\n",
      "2021-09-19 10:11:01,408 - DEBUG - example.xlsx is NOT a PDF\n",
      "2021-09-19 10:11:01,411 - DEBUG - FILE INSIDE C:\\Users\\Administrator.Sergio-PC\\PDFs\\Misc Sub\\Misc subsub: example_copy.xlsx\n",
      "2021-09-19 10:11:01,414 - DEBUG - example_copy.xlsx is NOT a PDF\n",
      "2021-09-19 10:11:01,416 - DEBUG - FILE INSIDE C:\\Users\\Administrator.Sergio-PC\\PDFs\\Misc Sub\\Misc subsub: freezeExample.xlsx\n",
      "2021-09-19 10:11:01,420 - DEBUG - freezeExample.xlsx is NOT a PDF\n",
      "2021-09-19 10:11:01,422 - DEBUG - FILE INSIDE C:\\Users\\Administrator.Sergio-PC\\PDFs\\Misc Sub\\Misc subsub: merged.xlsx\n",
      "2021-09-19 10:11:01,424 - DEBUG - merged.xlsx is NOT a PDF\n",
      "2021-09-19 10:11:01,427 - DEBUG - FILE INSIDE C:\\Users\\Administrator.Sergio-PC\\PDFs\\Misc Sub\\Misc subsub: produceSales.xlsx\n",
      "2021-09-19 10:11:01,429 - DEBUG - produceSales.xlsx is NOT a PDF\n",
      "2021-09-19 10:11:01,433 - DEBUG - FILE INSIDE C:\\Users\\Administrator.Sergio-PC\\PDFs\\Misc Sub\\Misc subsub: sampleChart.xlsx\n",
      "2021-09-19 10:11:01,437 - DEBUG - sampleChart.xlsx is NOT a PDF\n",
      "2021-09-19 10:11:01,439 - DEBUG - FILE INSIDE C:\\Users\\Administrator.Sergio-PC\\PDFs\\Misc Sub\\Misc subsub: styled.xlsx\n",
      "2021-09-19 10:11:01,441 - DEBUG - styled.xlsx is NOT a PDF\n",
      "2021-09-19 10:11:01,445 - DEBUG - FILE INSIDE C:\\Users\\Administrator.Sergio-PC\\PDFs\\Misc Sub\\Misc subsub: styles.xlsx\n",
      "2021-09-19 10:11:01,447 - DEBUG - styles.xlsx is NOT a PDF\n",
      "2021-09-19 10:11:01,450 - DEBUG - FILE INSIDE C:\\Users\\Administrator.Sergio-PC\\PDFs\\Misc Sub\\Misc subsub: updatedProduceSales.xlsx\n",
      "2021-09-19 10:11:01,453 - DEBUG - updatedProduceSales.xlsx is NOT a PDF\n",
      "2021-09-19 10:11:01,458 - DEBUG - FILE INSIDE C:\\Users\\Administrator.Sergio-PC\\PDFs\\Misc Sub\\Misc subsub: writeFormula.xlsx\n",
      "2021-09-19 10:11:01,460 - DEBUG - writeFormula.xlsx is NOT a PDF\n",
      "2021-09-19 10:11:01,462 - DEBUG - The current folder is C:\\Users\\Administrator.Sergio-PC\\PDFs\\Misc Sub dos\n",
      "2021-09-19 10:11:01,464 - DEBUG - SUBFOLDER OF C:\\Users\\Administrator.Sergio-PC\\PDFs\\Misc Sub dos: Misc sub dos sub\n",
      "2021-09-19 10:11:01,467 - DEBUG - FILE INSIDE C:\\Users\\Administrator.Sergio-PC\\PDFs\\Misc Sub dos: watermark.pdf\n",
      "2021-09-19 10:11:01,473 - DEBUG - watermark.pdf is a PDF\n",
      "2021-09-19 10:11:01,476 - DEBUG - passwordvariable = password\n",
      "2021-09-19 10:11:01,479 - DEBUG - currentFilePath variable = C:\\Users\\Administrator.Sergio-PC\\PDFs\\Misc Sub dos\\watermark.pdf\n",
      "2021-09-19 10:11:01,482 - DEBUG - encryptedPdfFilename variable = watermark_encrypted.pdf\n",
      "2021-09-19 10:11:01,484 - DEBUG - encryptedPdfFilePath variable = C:\\Users\\Administrator.Sergio-PC\\PDFs\\Misc Sub dos\\watermark_encrypted.pdf\n"
     ]
    },
    {
     "name": "stdout",
     "output_type": "stream",
     "text": [
      "combinedminutes.pdf moved to recycling bin.\n"
     ]
    },
    {
     "name": "stderr",
     "output_type": "stream",
     "text": [
      "2021-09-19 10:11:02,076 - DEBUG - watermark_encrypted.pdf encrypted is True\n",
      "2021-09-19 10:11:02,095 - DEBUG - watermark_encrypted.pdf passed decrypt test.\n",
      "2021-09-19 10:11:02,128 - DEBUG - The current folder is C:\\Users\\Administrator.Sergio-PC\\PDFs\\Misc Sub dos\\Misc sub dos sub\n",
      "2021-09-19 10:11:02,131 - DEBUG - FILE INSIDE C:\\Users\\Administrator.Sergio-PC\\PDFs\\Misc Sub dos\\Misc sub dos sub: example.csv\n",
      "2021-09-19 10:11:02,135 - DEBUG - example.csv is NOT a PDF\n",
      "2021-09-19 10:11:02,137 - DEBUG - FILE INSIDE C:\\Users\\Administrator.Sergio-PC\\PDFs\\Misc Sub dos\\Misc sub dos sub: exampleWithHeader.csv\n",
      "2021-09-19 10:11:02,139 - DEBUG - exampleWithHeader.csv is NOT a PDF\n",
      "2021-09-19 10:11:02,142 - DEBUG - End of program\n"
     ]
    },
    {
     "name": "stdout",
     "output_type": "stream",
     "text": [
      "watermark.pdf moved to recycling bin.\n",
      "Encrypting complete.\n"
     ]
    }
   ],
   "source": [
    "pdfEncrypt(Delete = True, DEBUG = True, SPW = True)"
   ]
  },
  {
   "cell_type": "code",
   "execution_count": 2,
   "metadata": {},
   "outputs": [],
   "source": [
    "# Decrypter\n",
    "\n",
    "# Define function\n",
    "def pdfDecrypt(Delete = False, DEBUG = False, SPW = False):\n",
    " \n",
    "    # Import libraries\n",
    "    import os # Manage files\n",
    "    import pyinputplus as pyip # Manage input\n",
    "    import PyPDF2 # Read/Write/Encrypt PDFs\n",
    "    import logging # Debugger\n",
    "    import send2trash # library for sending original PDF files to the computer's recycling bin    \n",
    "    \n",
    "    bugSwitch(DEBUG)\n",
    "    \n",
    "    # Start debugger\n",
    "    logging.debug('Start of program. Debugger enabled.') \n",
    "    \n",
    "    # Ask for folder name or path as string, convert to absolute path\n",
    "    while True:\n",
    "        inputstr = pyip.inputStr(prompt = 'Please enter the folder name to decrypt.')\n",
    "        path = os.path.abspath(inputstr)\n",
    "        if os.path.exists(path):\n",
    "            break\n",
    "        print('That is not a valid folder name. Remember the folder must be in the current working directory')\n",
    "\n",
    "    logging.debug(f'Folder found. path variable = {path}')\n",
    "    \n",
    "    # if variable for Single Password is set to True:\n",
    "    if SPW is True:\n",
    "        singlePassVar = pyip.inputStr(prompt = f'Please enter a password to decrypt the files with.')\n",
    "        logging.debug(f'singlePassVar = {singlePassVar}')    \n",
    "    \n",
    "    # Use os.walk to loop, for each folder:\n",
    "    for foldername, subfolders, filenames in os.walk(path):\n",
    "        logging.debug(f'The current folder is {foldername}')\n",
    "        \n",
    "        # for each subfolder:\n",
    "        for subfolder in subfolders:\n",
    "            logging.debug(f'SUBFOLDER OF {foldername}: {subfolder}')\n",
    "        \n",
    "        # for each file:\n",
    "        for filename in filenames:\n",
    "            logging.debug(f'FILE INSIDE {foldername}: {filename}')\n",
    "        \n",
    "            # If the file is a PDF ( filename ends with .pdf):\n",
    "            if filename.endswith('.pdf'):\n",
    "                logging.debug(f'{filename} is a PDF')\n",
    "                \n",
    "                # Create the current file path variable\n",
    "                currentFilePath = f'{foldername}\\{filename}'\n",
    "                \n",
    "                logging.debug(f'currentFilePath variable = {currentFilePath}')\n",
    "                                \n",
    "                # Create a file object and a reader object\n",
    "                pdfFile = open(currentFilePath, 'rb')\n",
    "                pdfReader = PyPDF2.PdfFileReader(pdfFile)\n",
    "\n",
    "                # If this file encryped:\n",
    "                if pdfReader.isEncrypted is True:\n",
    "                    logging.debug(f'{filename} encrypted is True')\n",
    "                    \n",
    "                    # Use single password or pyinput to create passwordvariable\n",
    "                \n",
    "                    if SPW is True:\n",
    "                        passwordvariable = singlePassVar\n",
    "\n",
    "                    else:\n",
    "                        passwordvariable = pyip.inputStr(prompt = f'Please enter a password to decrypt {filename} with.')\n",
    "                \n",
    "                    logging.debug(f'passwordvariable = {passwordvariable}')  \n",
    "                    \n",
    "                    # If it can be decrypted succesfully:\n",
    "                    if pdfReader.decrypt(passwordvariable) is 1:\n",
    "                        logging.debug(f'{filename} passed decrypt test.')\n",
    "                        \n",
    "                        # Create the new filename variable\n",
    "                        decryptedPdfFilename = f'DECRYPTED_{filename}'\n",
    "                        logging.debug(f'decryptedPdfFilename variable = {decryptedPdfFilename}')\n",
    "\n",
    "                        # Create decrypyed file path variable\n",
    "                        decryptedPdfFilePath = f'{foldername}\\{decryptedPdfFilename}'\n",
    "                        logging.debug(f'decryptedPdfFilePath variable = {decryptedPdfFilePath}')\n",
    "                        \n",
    "                        # Make an decrypted copy\n",
    "                        decryptedPdfWriter = PyPDF2.PdfFileWriter()\n",
    " \n",
    "                        for pageNum in range(pdfReader.numPages):\n",
    "                            decryptedPdfWriter.addPage(pdfReader.getPage(pageNum)) \n",
    "                        \n",
    "                        decryptedPdfFile = open(decryptedPdfFilePath, 'wb')                \n",
    "                        decryptedPdfWriter.write(decryptedPdfFile)\n",
    "                        \n",
    "                        # Close all open files\n",
    "                        \n",
    "                        pdfFile.close()\n",
    "                        decryptedPdfFile.close()\n",
    "                        \n",
    "                        # If we set the delete option to True: \n",
    "                        if Delete is True: \n",
    "                            \n",
    "                            # Delete original file\n",
    "                            send2trash.send2trash(currentFilePath)\n",
    "                            print(f'{filename} moved to recycling bin.')\n",
    "                    else:\n",
    "                        print(f'{encryptedPdfFilename} could not be succesfully decrypted.')\n",
    "        \n",
    "            else:\n",
    "                logging.debug(f'{filename} is NOT a PDF')\n",
    "                pass\n",
    "    \n",
    "    logging.debug('End of program')\n",
    "    print('Decrypting complete.')                 "
   ]
  },
  {
   "cell_type": "code",
   "execution_count": 3,
   "metadata": {},
   "outputs": [
    {
     "name": "stderr",
     "output_type": "stream",
     "text": [
      "2021-09-19 10:13:23,827 - DEBUG - Start of program. Debugger enabled.\n"
     ]
    },
    {
     "name": "stdout",
     "output_type": "stream",
     "text": [
      "Please enter the folder name to decrypt.PDFs\n"
     ]
    },
    {
     "name": "stderr",
     "output_type": "stream",
     "text": [
      "2021-09-19 10:13:26,179 - DEBUG - Folder found. path variable = C:\\Users\\Administrator.Sergio-PC\\PDFs\n"
     ]
    },
    {
     "name": "stdout",
     "output_type": "stream",
     "text": [
      "Please enter a password to decrypt the files with.password\n"
     ]
    },
    {
     "name": "stderr",
     "output_type": "stream",
     "text": [
      "2021-09-19 10:13:28,979 - DEBUG - singlePassVar = password\n",
      "2021-09-19 10:13:28,980 - DEBUG - The current folder is C:\\Users\\Administrator.Sergio-PC\\PDFs\n",
      "2021-09-19 10:13:28,983 - DEBUG - SUBFOLDER OF C:\\Users\\Administrator.Sergio-PC\\PDFs: Misc Sub\n",
      "2021-09-19 10:13:28,984 - DEBUG - SUBFOLDER OF C:\\Users\\Administrator.Sergio-PC\\PDFs: Misc Sub dos\n",
      "2021-09-19 10:13:28,985 - DEBUG - FILE INSIDE C:\\Users\\Administrator.Sergio-PC\\PDFs: meetingminutes2_encrypted.pdf\n",
      "2021-09-19 10:13:28,986 - DEBUG - meetingminutes2_encrypted.pdf is a PDF\n",
      "2021-09-19 10:13:28,989 - DEBUG - currentFilePath variable = C:\\Users\\Administrator.Sergio-PC\\PDFs\\meetingminutes2_encrypted.pdf\n",
      "2021-09-19 10:13:28,995 - DEBUG - meetingminutes2_encrypted.pdf encrypted is True\n",
      "2021-09-19 10:13:28,999 - DEBUG - passwordvariable = password\n",
      "2021-09-19 10:13:29,015 - DEBUG - meetingminutes2_encrypted.pdf passed decrypt test.\n",
      "2021-09-19 10:13:29,017 - DEBUG - decryptedPdfFilename variable = DECRYPTED_meetingminutes2_encrypted.pdf\n",
      "2021-09-19 10:13:29,019 - DEBUG - decryptedPdfFilePath variable = C:\\Users\\Administrator.Sergio-PC\\PDFs\\DECRYPTED_meetingminutes2_encrypted.pdf\n",
      "2021-09-19 10:13:30,459 - DEBUG - FILE INSIDE C:\\Users\\Administrator.Sergio-PC\\PDFs: meetingminutes_encrypted.pdf\n",
      "2021-09-19 10:13:30,461 - DEBUG - meetingminutes_encrypted.pdf is a PDF\n",
      "2021-09-19 10:13:30,464 - DEBUG - currentFilePath variable = C:\\Users\\Administrator.Sergio-PC\\PDFs\\meetingminutes_encrypted.pdf\n",
      "2021-09-19 10:13:30,472 - DEBUG - meetingminutes_encrypted.pdf encrypted is True\n",
      "2021-09-19 10:13:30,475 - DEBUG - passwordvariable = password\n",
      "2021-09-19 10:13:30,493 - DEBUG - meetingminutes_encrypted.pdf passed decrypt test.\n",
      "2021-09-19 10:13:30,498 - DEBUG - decryptedPdfFilename variable = DECRYPTED_meetingminutes_encrypted.pdf\n",
      "2021-09-19 10:13:30,499 - DEBUG - decryptedPdfFilePath variable = C:\\Users\\Administrator.Sergio-PC\\PDFs\\DECRYPTED_meetingminutes_encrypted.pdf\n"
     ]
    },
    {
     "name": "stdout",
     "output_type": "stream",
     "text": [
      "meetingminutes2_encrypted.pdf moved to recycling bin.\n"
     ]
    },
    {
     "name": "stderr",
     "output_type": "stream",
     "text": [
      "2021-09-19 10:13:31,740 - DEBUG - FILE INSIDE C:\\Users\\Administrator.Sergio-PC\\PDFs: restyled.docx\n",
      "2021-09-19 10:13:31,741 - DEBUG - restyled.docx is NOT a PDF\n",
      "2021-09-19 10:13:31,742 - DEBUG - FILE INSIDE C:\\Users\\Administrator.Sergio-PC\\PDFs: zophie.png\n",
      "2021-09-19 10:13:31,743 - DEBUG - zophie.png is NOT a PDF\n",
      "2021-09-19 10:13:31,744 - DEBUG - The current folder is C:\\Users\\Administrator.Sergio-PC\\PDFs\\Misc Sub\n",
      "2021-09-19 10:13:31,744 - DEBUG - SUBFOLDER OF C:\\Users\\Administrator.Sergio-PC\\PDFs\\Misc Sub: Misc subsub\n",
      "2021-09-19 10:13:31,745 - DEBUG - FILE INSIDE C:\\Users\\Administrator.Sergio-PC\\PDFs\\Misc Sub: catlogo.png\n",
      "2021-09-19 10:13:31,745 - DEBUG - catlogo.png is NOT a PDF\n",
      "2021-09-19 10:13:31,746 - DEBUG - FILE INSIDE C:\\Users\\Administrator.Sergio-PC\\PDFs\\Misc Sub: dictionary.txt\n",
      "2021-09-19 10:13:31,747 - DEBUG - dictionary.txt is NOT a PDF\n",
      "2021-09-19 10:13:31,747 - DEBUG - FILE INSIDE C:\\Users\\Administrator.Sergio-PC\\PDFs\\Misc Sub: guests.txt\n",
      "2021-09-19 10:13:31,748 - DEBUG - guests.txt is NOT a PDF\n",
      "2021-09-19 10:13:31,749 - DEBUG - The current folder is C:\\Users\\Administrator.Sergio-PC\\PDFs\\Misc Sub\\Misc subsub\n",
      "2021-09-19 10:13:31,749 - DEBUG - FILE INSIDE C:\\Users\\Administrator.Sergio-PC\\PDFs\\Misc Sub\\Misc subsub: censuspopdata.xlsx\n",
      "2021-09-19 10:13:31,750 - DEBUG - censuspopdata.xlsx is NOT a PDF\n",
      "2021-09-19 10:13:31,750 - DEBUG - FILE INSIDE C:\\Users\\Administrator.Sergio-PC\\PDFs\\Misc Sub\\Misc subsub: combinedminutes_encrypted.pdf\n",
      "2021-09-19 10:13:31,751 - DEBUG - combinedminutes_encrypted.pdf is a PDF\n",
      "2021-09-19 10:13:31,751 - DEBUG - currentFilePath variable = C:\\Users\\Administrator.Sergio-PC\\PDFs\\Misc Sub\\Misc subsub\\combinedminutes_encrypted.pdf\n",
      "2021-09-19 10:13:31,754 - DEBUG - combinedminutes_encrypted.pdf encrypted is True\n",
      "2021-09-19 10:13:31,756 - DEBUG - passwordvariable = password\n",
      "2021-09-19 10:13:31,767 - DEBUG - combinedminutes_encrypted.pdf passed decrypt test.\n",
      "2021-09-19 10:13:31,769 - DEBUG - decryptedPdfFilename variable = DECRYPTED_combinedminutes_encrypted.pdf\n",
      "2021-09-19 10:13:31,770 - DEBUG - decryptedPdfFilePath variable = C:\\Users\\Administrator.Sergio-PC\\PDFs\\Misc Sub\\Misc subsub\\DECRYPTED_combinedminutes_encrypted.pdf\n"
     ]
    },
    {
     "name": "stdout",
     "output_type": "stream",
     "text": [
      "meetingminutes_encrypted.pdf moved to recycling bin.\n"
     ]
    },
    {
     "name": "stderr",
     "output_type": "stream",
     "text": [
      "2021-09-19 10:13:34,319 - DEBUG - FILE INSIDE C:\\Users\\Administrator.Sergio-PC\\PDFs\\Misc Sub\\Misc subsub: dimensions.xlsx\n",
      "2021-09-19 10:13:34,320 - DEBUG - dimensions.xlsx is NOT a PDF\n",
      "2021-09-19 10:13:34,321 - DEBUG - FILE INSIDE C:\\Users\\Administrator.Sergio-PC\\PDFs\\Misc Sub\\Misc subsub: duesRecords.xlsx\n",
      "2021-09-19 10:13:34,324 - DEBUG - duesRecords.xlsx is NOT a PDF\n",
      "2021-09-19 10:13:34,325 - DEBUG - FILE INSIDE C:\\Users\\Administrator.Sergio-PC\\PDFs\\Misc Sub\\Misc subsub: example.xlsx\n",
      "2021-09-19 10:13:34,326 - DEBUG - example.xlsx is NOT a PDF\n",
      "2021-09-19 10:13:34,327 - DEBUG - FILE INSIDE C:\\Users\\Administrator.Sergio-PC\\PDFs\\Misc Sub\\Misc subsub: example_copy.xlsx\n",
      "2021-09-19 10:13:34,328 - DEBUG - example_copy.xlsx is NOT a PDF\n",
      "2021-09-19 10:13:34,329 - DEBUG - FILE INSIDE C:\\Users\\Administrator.Sergio-PC\\PDFs\\Misc Sub\\Misc subsub: freezeExample.xlsx\n",
      "2021-09-19 10:13:34,330 - DEBUG - freezeExample.xlsx is NOT a PDF\n",
      "2021-09-19 10:13:34,331 - DEBUG - FILE INSIDE C:\\Users\\Administrator.Sergio-PC\\PDFs\\Misc Sub\\Misc subsub: merged.xlsx\n",
      "2021-09-19 10:13:34,332 - DEBUG - merged.xlsx is NOT a PDF\n",
      "2021-09-19 10:13:34,333 - DEBUG - FILE INSIDE C:\\Users\\Administrator.Sergio-PC\\PDFs\\Misc Sub\\Misc subsub: produceSales.xlsx\n",
      "2021-09-19 10:13:34,334 - DEBUG - produceSales.xlsx is NOT a PDF\n",
      "2021-09-19 10:13:34,336 - DEBUG - FILE INSIDE C:\\Users\\Administrator.Sergio-PC\\PDFs\\Misc Sub\\Misc subsub: sampleChart.xlsx\n",
      "2021-09-19 10:13:34,337 - DEBUG - sampleChart.xlsx is NOT a PDF\n",
      "2021-09-19 10:13:34,338 - DEBUG - FILE INSIDE C:\\Users\\Administrator.Sergio-PC\\PDFs\\Misc Sub\\Misc subsub: styled.xlsx\n",
      "2021-09-19 10:13:34,339 - DEBUG - styled.xlsx is NOT a PDF\n",
      "2021-09-19 10:13:34,340 - DEBUG - FILE INSIDE C:\\Users\\Administrator.Sergio-PC\\PDFs\\Misc Sub\\Misc subsub: styles.xlsx\n",
      "2021-09-19 10:13:34,341 - DEBUG - styles.xlsx is NOT a PDF\n",
      "2021-09-19 10:13:34,342 - DEBUG - FILE INSIDE C:\\Users\\Administrator.Sergio-PC\\PDFs\\Misc Sub\\Misc subsub: updatedProduceSales.xlsx\n",
      "2021-09-19 10:13:34,343 - DEBUG - updatedProduceSales.xlsx is NOT a PDF\n",
      "2021-09-19 10:13:34,344 - DEBUG - FILE INSIDE C:\\Users\\Administrator.Sergio-PC\\PDFs\\Misc Sub\\Misc subsub: writeFormula.xlsx\n",
      "2021-09-19 10:13:34,346 - DEBUG - writeFormula.xlsx is NOT a PDF\n",
      "2021-09-19 10:13:34,350 - DEBUG - The current folder is C:\\Users\\Administrator.Sergio-PC\\PDFs\\Misc Sub dos\n",
      "2021-09-19 10:13:34,352 - DEBUG - SUBFOLDER OF C:\\Users\\Administrator.Sergio-PC\\PDFs\\Misc Sub dos: Misc sub dos sub\n",
      "2021-09-19 10:13:34,354 - DEBUG - FILE INSIDE C:\\Users\\Administrator.Sergio-PC\\PDFs\\Misc Sub dos: watermark_encrypted.pdf\n",
      "2021-09-19 10:13:34,356 - DEBUG - watermark_encrypted.pdf is a PDF\n",
      "2021-09-19 10:13:34,358 - DEBUG - currentFilePath variable = C:\\Users\\Administrator.Sergio-PC\\PDFs\\Misc Sub dos\\watermark_encrypted.pdf\n",
      "2021-09-19 10:13:34,362 - DEBUG - watermark_encrypted.pdf encrypted is True\n",
      "2021-09-19 10:13:34,364 - DEBUG - passwordvariable = password\n",
      "2021-09-19 10:13:34,383 - DEBUG - watermark_encrypted.pdf passed decrypt test.\n",
      "2021-09-19 10:13:34,394 - DEBUG - decryptedPdfFilename variable = DECRYPTED_watermark_encrypted.pdf\n",
      "2021-09-19 10:13:34,397 - DEBUG - decryptedPdfFilePath variable = C:\\Users\\Administrator.Sergio-PC\\PDFs\\Misc Sub dos\\DECRYPTED_watermark_encrypted.pdf\n"
     ]
    },
    {
     "name": "stdout",
     "output_type": "stream",
     "text": [
      "combinedminutes_encrypted.pdf moved to recycling bin.\n"
     ]
    },
    {
     "name": "stderr",
     "output_type": "stream",
     "text": [
      "2021-09-19 10:13:34,999 - DEBUG - The current folder is C:\\Users\\Administrator.Sergio-PC\\PDFs\\Misc Sub dos\\Misc sub dos sub\n",
      "2021-09-19 10:13:35,001 - DEBUG - FILE INSIDE C:\\Users\\Administrator.Sergio-PC\\PDFs\\Misc Sub dos\\Misc sub dos sub: example.csv\n",
      "2021-09-19 10:13:35,002 - DEBUG - example.csv is NOT a PDF\n",
      "2021-09-19 10:13:35,004 - DEBUG - FILE INSIDE C:\\Users\\Administrator.Sergio-PC\\PDFs\\Misc Sub dos\\Misc sub dos sub: exampleWithHeader.csv\n",
      "2021-09-19 10:13:35,006 - DEBUG - exampleWithHeader.csv is NOT a PDF\n",
      "2021-09-19 10:13:35,007 - DEBUG - End of program\n"
     ]
    },
    {
     "name": "stdout",
     "output_type": "stream",
     "text": [
      "watermark_encrypted.pdf moved to recycling bin.\n",
      "Decrypting complete.\n"
     ]
    }
   ],
   "source": [
    "pdfDecrypt(Delete = True, DEBUG = True, SPW = True)"
   ]
  }
 ],
 "metadata": {
  "kernelspec": {
   "display_name": "ibm_project",
   "language": "python",
   "name": "ibm_project"
  },
  "language_info": {
   "codemirror_mode": {
    "name": "ipython",
    "version": 3
   },
   "file_extension": ".py",
   "mimetype": "text/x-python",
   "name": "python",
   "nbconvert_exporter": "python",
   "pygments_lexer": "ipython3",
   "version": "3.7.9"
  }
 },
 "nbformat": 4,
 "nbformat_minor": 4
}
